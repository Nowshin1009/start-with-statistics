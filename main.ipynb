{
 "cells": [
  {
   "cell_type": "markdown",
   "id": "064454d0",
   "metadata": {},
   "source": [
    "**Suppose You are a data analyst at a financial consultancy. You’ve collected data from 50 clients, including their income, expenditure, and professional experience. You are tasked with analyzing this data to help create financial strategies based on career stage and income behavior.**"
   ]
  },
  {
   "cell_type": "markdown",
   "id": "7cca546d",
   "metadata": {},
   "source": [
    "1. Data Generation and Descriptive Statistics\n",
    "--> Generate 100 random data points for:\n",
    "   1. Serial number (1–50)\n",
    "   2. Income (25k–78k)\n",
    "   3. Expenditure (≤ income, in 25k–78k)\n",
    "   4. Experience (0 – 72 Months)\n",
    "\n",
    "•\tSummarize the data using descriptive statistics (mean, median, std, etc.)\n",
    "\n",
    "•\tInterpretation: What do the summary statistics suggest about the general financial profile?\n"
   ]
  },
  {
   "cell_type": "code",
   "execution_count": 2,
   "id": "b6b4961f",
   "metadata": {},
   "outputs": [],
   "source": [
    "import pandas as pd\n",
    "import numpy as np"
   ]
  },
  {
   "cell_type": "code",
   "execution_count": 3,
   "id": "27493a19",
   "metadata": {},
   "outputs": [],
   "source": [
    "# Set a seed for reproducibility\n",
    "np.random.seed(42)\n",
    "\n",
    "# Number of clients\n",
    "n_clients = 50\n",
    "\n",
    "# Generate data\n",
    "serial_number = np.arange(1, n_clients + 1)\n",
    "income = np.random.randint(25000, 78001, n_clients)\n",
    "expenditure = np.array([np.random.randint(25000, i + 1) for i in income])\n",
    "experience_months = np.random.randint(0, 73, n_clients)\n"
   ]
  },
  {
   "cell_type": "code",
   "execution_count": 4,
   "id": "7eaedcd3",
   "metadata": {},
   "outputs": [],
   "source": [
    "# Create a Pandas DataFrame\n",
    "data = pd.DataFrame({\n",
    "    'Serial Number': serial_number,\n",
    "    'Income': income,\n",
    "    'Expenditure': expenditure,\n",
    "    'Experience (Months)': experience_months\n",
    "})\n"
   ]
  },
  {
   "cell_type": "code",
   "execution_count": 5,
   "id": "0ee7fb74",
   "metadata": {},
   "outputs": [
    {
     "data": {
      "text/plain": [
       "(50, 4)"
      ]
     },
     "execution_count": 5,
     "metadata": {},
     "output_type": "execute_result"
    }
   ],
   "source": [
    "data.shape"
   ]
  },
  {
   "cell_type": "code",
   "execution_count": 6,
   "id": "5aa3009b",
   "metadata": {},
   "outputs": [
    {
     "name": "stdout",
     "output_type": "stream",
     "text": [
      "Generated Data (First 5 rows):\n",
      "   Serial Number  Income  Expenditure  Experience (Months)\n",
      "0              1   40795        32513                   40\n",
      "1              2   25860        25564                   27\n",
      "2              3   63158        48483                    6\n",
      "3              4   69732        42159                   72\n",
      "4              5   36284        33226                   71\n"
     ]
    }
   ],
   "source": [
    "# Summarize the data using descriptive statistics\n",
    "descriptive_stats = data.describe()\n",
    "\n",
    "print(\"Generated Data (First 5 rows):\")\n",
    "print(data.head())"
   ]
  },
  {
   "cell_type": "code",
   "execution_count": 7,
   "id": "13d92f05",
   "metadata": {},
   "outputs": [
    {
     "name": "stdout",
     "output_type": "stream",
     "text": [
      "\n",
      "Descriptive Statistics:\n",
      "       Serial Number        Income   Expenditure  Experience (Months)\n",
      "count       50.00000     50.000000     50.000000            50.000000\n",
      "mean        25.50000  46440.260000  35846.560000            35.560000\n",
      "std         14.57738  15814.193523  11724.007238            20.775928\n",
      "min          1.00000  25189.000000  25023.000000             0.000000\n",
      "25%         13.25000  31905.250000  26580.500000            22.000000\n",
      "50%         25.50000  43686.500000  30677.500000            34.500000\n",
      "75%         37.75000  62662.750000  42236.250000            50.750000\n",
      "max         50.00000  75680.000000  65774.000000            72.000000\n"
     ]
    }
   ],
   "source": [
    "print(\"\\nDescriptive Statistics:\")\n",
    "print(descriptive_stats)"
   ]
  },
  {
   "cell_type": "markdown",
   "id": "6f042f09",
   "metadata": {},
   "source": [
    "**Summary of Descriptive Statistics:**"
   ]
  },
  {
   "cell_type": "markdown",
   "id": "904bddbd",
   "metadata": {},
   "source": [
    "- Income: Average $46.4k, but varies significantly ($15.8k std). Some high earners pull the average up (median $43.7k).\n",
    "- Expenditure: Average $35.8k, also varies ($11.7k std), with a stronger skew towards lower spending for most (median $30.7k). Clients generally spend less than they earn.\n",
    "- Experience: Averages around 3 years (35.6 months), with a moderate spread (20.8 months std), ranging from newcomers to 6-year professionals."
   ]
  },
  {
   "cell_type": "markdown",
   "id": "003f5c63",
   "metadata": {},
   "source": [
    "**General Financial Profile (Short Interpretation):**"
   ]
  },
  {
   "cell_type": "markdown",
   "id": "212458ea",
   "metadata": {},
   "source": [
    "The consultancy's clients show a moderate average income with substantial individual differences. They generally spend less than they earn, but spending habits also vary, with some higher spenders. The clients represent a range of career stages, suggesting diverse financial needs and opportunities for tailored strategies based on income behavior and experience."
   ]
  },
  {
   "cell_type": "markdown",
   "id": "d8781a0e",
   "metadata": {},
   "source": [
    "# Problem 2:\n",
    "**Categorize Experience Levels\n",
    "•\tCreate a categorical variable:**\n",
    "- 0–2 years → Early Career\n",
    "- 2–5 years → Midlevel\n",
    "- 5 years → Senior Level\n",
    "\n",
    "    * Count clients in each category.\n",
    "\n",
    "    * Interpretation: What is the distribution of clients across career stages?\n"
   ]
  },
  {
   "cell_type": "code",
   "execution_count": 8,
   "id": "1caa8962",
   "metadata": {},
   "outputs": [],
   "source": [
    "# Define the experience level categories and their boundaries\n",
    "def categorize_experience(months):\n",
    "    years = months / 12  # Convert months to years\n",
    "    if 0 <= years <= 2:\n",
    "        return 'Early Career'\n",
    "    elif 2 < years <= 5:\n",
    "        return 'Mid-Level'\n",
    "    else:  # Greater than 5 years\n",
    "        return 'Senior Level'\n",
    "\n"
   ]
  },
  {
   "cell_type": "code",
   "execution_count": 9,
   "id": "a02ef2dd",
   "metadata": {},
   "outputs": [],
   "source": [
    "# Apply the categorization function to the 'Experience (Months)' column\n",
    "data['Experience Level'] = data['Experience (Months)'].apply(categorize_experience)"
   ]
  },
  {
   "cell_type": "code",
   "execution_count": 10,
   "id": "e2760a9c",
   "metadata": {},
   "outputs": [
    {
     "name": "stdout",
     "output_type": "stream",
     "text": [
      "Experience Level Counts:\n",
      "Experience Level\n",
      "Mid-Level       26\n",
      "Early Career    14\n",
      "Senior Level    10\n",
      "Name: count, dtype: int64\n"
     ]
    }
   ],
   "source": [
    "# Count the number of clients in each category\n",
    "experience_level_counts = data['Experience Level'].value_counts()\n",
    "\n",
    "print(\"Experience Level Counts:\")\n",
    "print(experience_level_counts)"
   ]
  },
  {
   "cell_type": "markdown",
   "id": "d9c33b3f",
   "metadata": {},
   "source": [
    "### Interpretation: \n",
    "**Distribution of Clients Across Career Stages**\n",
    "\n",
    "The output above shows the distribution of the 50 clients across the three defined career stages:\n",
    "\n",
    "* Mid-Level: This is the largest group, with 26 clients. This indicates that the majority of the clients in this dataset have a moderate amount of professional experience (between 2 and 5 years).\n",
    "* Early Career: There are 14 clients in the Early Career stage. This suggests a notable portion of the client base is relatively new to their careers (0 to 2 years of experience).\n",
    "* Senior Level: This is the smallest group, with only 10 clients. This implies that fewer clients in this dataset have extensive professional experience (more than 5 years)."
   ]
  },
  {
   "cell_type": "markdown",
   "id": "1ef99bda",
   "metadata": {},
   "source": [
    "# 3. Linear Regression\n",
    "•\tModel: Expenditure = β₀ + β₁ × Income + β2   x Experience \n",
    "•\tPlot the regression line and interpret the slope and intercept.\n",
    "•\tInterpretation:\n",
    "o\tHow strongly does income and experience predict expenditure?\n",
    "o\tDoes the model make financial sense?\n"
   ]
  },
  {
   "cell_type": "code",
   "execution_count": 11,
   "id": "6993128e",
   "metadata": {},
   "outputs": [
    {
     "name": "stdout",
     "output_type": "stream",
     "text": [
      "                            OLS Regression Results                            \n",
      "==============================================================================\n",
      "Dep. Variable:            Expenditure   R-squared:                       0.458\n",
      "Model:                            OLS   Adj. R-squared:                  0.435\n",
      "Method:                 Least Squares   F-statistic:                     19.85\n",
      "Date:                Wed, 16 Apr 2025   Prob (F-statistic):           5.63e-07\n",
      "Time:                        19:11:09   Log-Likelihood:                -523.60\n",
      "No. Observations:                  50   AIC:                             1053.\n",
      "Df Residuals:                      47   BIC:                             1059.\n",
      "Df Model:                           2                                         \n",
      "Covariance Type:            nonrobust                                         \n",
      "=======================================================================================\n",
      "                          coef    std err          t      P>|t|      [0.025      0.975]\n",
      "---------------------------------------------------------------------------------------\n",
      "const                1.305e+04   4220.624      3.093      0.003    4563.676    2.15e+04\n",
      "Income                  0.5048      0.081      6.265      0.000       0.343       0.667\n",
      "Experience (Months)   -18.2724     61.326     -0.298      0.767    -141.643     105.099\n",
      "==============================================================================\n",
      "Omnibus:                        1.969   Durbin-Watson:                   2.351\n",
      "Prob(Omnibus):                  0.374   Jarque-Bera (JB):                1.167\n",
      "Skew:                          -0.054   Prob(JB):                        0.558\n",
      "Kurtosis:                       3.741   Cond. No.                     1.66e+05\n",
      "==============================================================================\n",
      "\n",
      "Notes:\n",
      "[1] Standard Errors assume that the covariance matrix of the errors is correctly specified.\n",
      "[2] The condition number is large, 1.66e+05. This might indicate that there are\n",
      "strong multicollinearity or other numerical problems.\n"
     ]
    }
   ],
   "source": [
    "import statsmodels.api as sm\n",
    "import matplotlib.pyplot as plt\n",
    "import seaborn as sns\n",
    "\n",
    "# Independent variables\n",
    "X = data[['Income', 'Experience (Months)']]\n",
    "X = sm.add_constant(X)  # Adds intercept term (β₀)\n",
    "\n",
    "# Dependent variable\n",
    "y = data['Expenditure']\n",
    "\n",
    "# Fit the model\n",
    "model = sm.OLS(y, X).fit()\n",
    "\n",
    "# Print the regression summary\n",
    "print(model.summary())\n"
   ]
  },
  {
   "cell_type": "code",
   "execution_count": 12,
   "id": "87e5b0ed",
   "metadata": {},
   "outputs": [
    {
     "data": {
      "image/png": "[encoded data removed]",
      "text/plain": [
       "<Figure size 640x480 with 1 Axes>"
      ]
     },
     "metadata": {},
     "output_type": "display_data"
    }
   ],
   "source": [
    "# Simple scatter plot with regression line\n",
    "sns.regplot(x='Income', y='Expenditure', data=data, line_kws={\"color\": \"red\"})\n",
    "plt.title(\"Income vs. Expenditure Regression Line\")\n",
    "plt.xlabel(\"Income\")\n",
    "plt.ylabel(\"Expenditure\")\n",
    "plt.show()\n"
   ]
  },
  {
   "cell_type": "markdown",
   "id": "75bccca4",
   "metadata": {},
   "source": [
    "### Key Findings from the Regression Output:\n",
    "**R-squared = 0.458:**\n",
    "\n",
    "This means that 45.8% of the variation in client expenditure can be explained by income and experience combined. That’s a moderate level of explanatory power — decent, but not extremely strong.\n",
    "\n",
    "**Income:**\n",
    "\n",
    "* Coefficient = 0.5048, p-value = 0.000\n",
    "\n",
    "* Interpretation: For every additional 1 BDT of income, expenditure increases by approximately 0.50 BDT, holding experience constant.\n",
    "\n",
    "* Statistically significant (p < 0.05), and the strongest predictor in the model.\n",
    "\n",
    "**Experience (Months):**\n",
    "\n",
    "* Coefficient = -18.27, p-value = 0.767\n",
    "\n",
    "* Interpretation: Experience has a very weak and statistically insignificant effect on expenditure.\n",
    "\n",
    "* Not statistically significant, meaning experience doesn’t meaningfully predict spending behavior in this dataset.\n",
    "\n"
   ]
  },
  {
   "cell_type": "markdown",
   "id": "407e4dc6",
   "metadata": {},
   "source": [
    "#### The model makes financial sense because income has a strong positive effect on expenditure — as people earn more, they tend to spend more. However, experience has a very weak and statistically insignificant impact, suggesting it doesn’t meaningfully influence spending in this dataset."
   ]
  },
  {
   "cell_type": "markdown",
   "id": "b6bc85d6",
   "metadata": {},
   "source": [
    "# 4. Hypothesis Test on Mean Income\n",
    "•\tTest:\n",
    "- H₀: Mean income = 50,000\n",
    "- H₁: Mean income ≠ 50,000\n",
    "   * Significance level: α = 0.05\n",
    "   * Interpretation: Is the average income significantly different from 50,000?\n"
   ]
  },
  {
   "cell_type": "code",
   "execution_count": 13,
   "id": "1ade652c",
   "metadata": {},
   "outputs": [
    {
     "name": "stdout",
     "output_type": "stream",
     "text": [
      "T-statistic: -1.5916817317786853\n",
      "P-value: 0.11788779758124204\n"
     ]
    }
   ],
   "source": [
    "from scipy import stats\n",
    "\n",
    "# Run one-sample t-test\n",
    "t_statistic, p_value = stats.ttest_1samp(data['Income'], popmean=50000)\n",
    "\n",
    "print(\"T-statistic:\", t_statistic)\n",
    "print(\"P-value:\", p_value)\n"
   ]
  },
  {
   "cell_type": "markdown",
   "id": "e8e59d36",
   "metadata": {},
   "source": [
    "**Since the p-value (0.1179) > significance level (α = 0.05), we fail to reject the null hypothesis.**"
   ]
  },
  {
   "cell_type": "markdown",
   "id": "620156b0",
   "metadata": {},
   "source": [
    "**Interpretation :**\n",
    "The average income is not significantly different from 50,000.\n",
    "So, based on the data, we don’t have enough evidence to say that the clients' mean income is higher or lower than 50,000.\n"
   ]
  },
  {
   "cell_type": "markdown",
   "id": "a116b5c2",
   "metadata": {},
   "source": [
    "**5. Hypothesis Test on Regression Coefficient**\n",
    "\n",
    "•\tIn your linear model from Q3, test:\n",
    "\n",
    "    * H₀: β₁ = 0 (no effect of income on expenditure)\n",
    "    * H₁: β₁ ≠ 0\n",
    "•\tInterpretation: Is income a statistically significant predictor of expenditure?\n"
   ]
  },
  {
   "cell_type": "code",
   "execution_count": 14,
   "id": "2bd6d11e",
   "metadata": {},
   "outputs": [
    {
     "name": "stdout",
     "output_type": "stream",
     "text": [
      "T-statistic: 6.265\n",
      "P-value: 0.0\n"
     ]
    }
   ],
   "source": [
    "# From the regression result in Question 3\n",
    "# H0: β₁ (income coefficient) = 0\n",
    "# H1: β₁ ≠ 0\n",
    "\n",
    "t_statistic = 6.265\n",
    "p_value = 0.000\n",
    "\n",
    "print(\"T-statistic:\", t_statistic)\n",
    "print(\"P-value:\", p_value)"
   ]
  },
  {
   "cell_type": "markdown",
   "id": "391117af",
   "metadata": {},
   "source": [
    "**Since the p-value is less than 0.05, we reject H₀.**\n",
    "\n",
    "**Interpretation:** We have enough statistical evidence to say that income has a significant effect on expenditure. Therefore, income is a significant predictor in the model.\n"
   ]
  },
  {
   "cell_type": "markdown",
   "id": "eeeb0610",
   "metadata": {},
   "source": [
    "# 6. Logistic Regression\n",
    "•\tCreate a binary outcome variable:\n",
    "  \n",
    "  - 1 = High income (above median)\n",
    "  - 0 = Low income (at/below median)\n",
    "\n",
    "•\tModel: Predict High Income based on Experience (in years)\n",
    "\n",
    "•\t**Interpretation:**\n",
    "- Does more experience increase the chance of being in the high-income group?\n",
    "- What does the coefficient suggest about the odds of high income with each additional year of experience?\n"
   ]
  },
  {
   "cell_type": "code",
   "execution_count": 17,
   "id": "cd2e8138",
   "metadata": {},
   "outputs": [
    {
     "name": "stdout",
     "output_type": "stream",
     "text": [
      "Optimization terminated successfully.\n",
      "         Current function value: 0.681251\n",
      "         Iterations 4\n",
      "\n",
      "Logistic Regression Results:\n",
      "                           Logit Regression Results                           \n",
      "==============================================================================\n",
      "Dep. Variable:       Q(\"High Income\")   No. Observations:                   50\n",
      "Model:                          Logit   Df Residuals:                       48\n",
      "Method:                           MLE   Df Model:                            1\n",
      "Date:                Wed, 16 Apr 2025   Pseudo R-squ.:                 0.01716\n",
      "Time:                        19:11:17   Log-Likelihood:                -34.063\n",
      "converged:                       True   LL-Null:                       -34.657\n",
      "Covariance Type:            nonrobust   LLR p-value:                    0.2754\n",
      "===========================================================================================\n",
      "                              coef    std err          z      P>|z|      [0.025      0.975]\n",
      "-------------------------------------------------------------------------------------------\n",
      "Intercept                  -0.5397      0.577     -0.936      0.349      -1.670       0.591\n",
      "Q(\"Experience (Years)\")     0.1821      0.169      1.078      0.281      -0.149       0.513\n",
      "===========================================================================================\n"
     ]
    }
   ],
   "source": [
    "import statsmodels.api as sm\n",
    "import statsmodels.formula.api as smf\n",
    "\n",
    "# Calculate the median income\n",
    "median_income = data['Income'].median()\n",
    "\n",
    "# Create the binary outcome variable 'High Income'\n",
    "data['High Income'] = np.where(data['Income'] > median_income, 1, 0)\n",
    "\n",
    "# Convert 'Experience (Months)' to 'Experience (Years)'\n",
    "data['Experience (Years)'] = data['Experience (Months)'] / 12\n",
    "# Logistic Regression Model\n",
    "logistic_model = smf.logit('Q(\"High Income\") ~ Q(\"Experience (Years)\")', data=data)\n",
    "logistic_results = logistic_model.fit()\n",
    "\n",
    "# Print the logistic regression results summary\n",
    "print(\"\\nLogistic Regression Results:\")\n",
    "print(logistic_results.summary())\n",
    "\n"
   ]
  },
  {
   "cell_type": "code",
   "execution_count": 19,
   "id": "c905ee7d",
   "metadata": {},
   "outputs": [
    {
     "name": "stdout",
     "output_type": "stream",
     "text": [
      "\n",
      "Interpretation of Logistic Regression:\n",
      "Coefficient for Experience (Years): 0.1821\n"
     ]
    }
   ],
   "source": [
    "# Interpretation\n",
    "print(\"\\nInterpretation of Logistic Regression:\")\n",
    "\n",
    "# Coefficient of Experience (Years)\n",
    "experience_coefficient_logistic = logistic_results.params['Q(\"Experience (Years)\")']\n",
    "print(f\"Coefficient for Experience (Years): {experience_coefficient_logistic:.4f}\")\n"
   ]
  },
  {
   "cell_type": "markdown",
   "id": "724e3afc",
   "metadata": {},
   "source": [
    "#### The coefficient for Experience (Years) is positive (0.1821), which means that more experience is associated with a higher chance of being in the high-income group.\n",
    "But the p-value is 0.281, which is greater than 0.05, so this result is not statistically significant. \n",
    "\n",
    "**Interpretation:** We don’t have enough evidence to say that experience has a significant effect on high income."
   ]
  },
  {
   "cell_type": "markdown",
   "id": "2394c8d0",
   "metadata": {},
   "source": [
    "# 7. Correlation Analysis\n",
    "\n",
    "•\tCalculate the Pearson correlation coefficients among:\n",
    "  - Income and Expenditure\n",
    "  - Income and Experience\n",
    "  - Expenditure and Experience\n",
    "\n",
    "•\tInterpretation:\n",
    "  - Which pairs are most strongly correlated?\n",
    "  - What do the signs and strengths of the correlations suggest?\n"
   ]
  },
  {
   "cell_type": "code",
   "execution_count": null,
   "id": "80249406",
   "metadata": {},
   "outputs": [
    {
     "name": "stdout",
     "output_type": "stream",
     "text": [
      "Correlation Analysis (Pearson):\n",
      "Income and Expenditure: 0.6759\n",
      "Income and Experience: 0.1529\n",
      "Expenditure and Experience: 0.0717\n"
     ]
    }
   ],
   "source": [
    "# Correlation Analysis\n",
    "import pandas as pd\n",
    "\n",
    "# Calculate Pearson correlation coefficients\n",
    "correlation_income_expenditure = data['Income'].corr(data['Expenditure'], method='pearson')\n",
    "correlation_income_experience = data['Income'].corr(data['Experience (Months)'], method='pearson')\n",
    "correlation_expenditure_experience = data['Expenditure'].corr(data['Experience (Months)'], method='pearson')\n",
    "\n",
    "# Print results\n",
    "print(\"Correlation Analysis (Pearson):\")\n",
    "print(f\"Income and Expenditure: {correlation_income_expenditure:.4f}\")\n",
    "print(f\"Income and Experience: {correlation_income_experience:.4f}\")\n",
    "print(f\"Expenditure and Experience: {correlation_expenditure_experience:.4f}\")\n"
   ]
  },
  {
   "cell_type": "markdown",
   "id": "4999b5d4",
   "metadata": {},
   "source": [
    "#### Interpretation:\n",
    "**Which pairs are most strongly correlated?**\n",
    "\n",
    "The pair Income and Expenditure shows the strongest correlation with a Pearson coefficient of 0.6759, which indicates a moderate to strong positive relationship.\n",
    "\n",
    "**What do the signs and strengths of the correlations suggest?**\n",
    "\n",
    "* Income and Expenditure (0.6759): \n",
    " As income increases, expenditure tends to increase as well. The positive and relatively strong correlation suggests a meaningful linear relationship between the two.\n",
    "\n",
    "* Income and Experience (0.1529): \n",
    "There is a weak positive correlation, implying that more experienced individuals might earn slightly more, but the relationship is not very strong.\n",
    "\n",
    "* Expenditure and Experience (0.0717): \n",
    "This is a very weak positive correlation, suggesting almost no linear relationship between experience and expenditure.\n",
    "\n"
   ]
  }
 ],
 "metadata": {
  "kernelspec": {
   "display_name": "Python 3",
   "language": "python",
   "name": "python3"
  },
  "language_info": {
   "codemirror_mode": {
    "name": "ipython",
    "version": 3
   },
   "file_extension": ".py",
   "mimetype": "text/x-python",
   "name": "python",
   "nbconvert_exporter": "python",
   "pygments_lexer": "ipython3",
   "version": "3.12.5"
  }
 },
 "nbformat": 4,
 "nbformat_minor": 5
}
