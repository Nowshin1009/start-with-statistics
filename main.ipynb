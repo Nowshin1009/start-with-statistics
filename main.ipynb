{
 "cells": [
  {
   "cell_type": "markdown",
   "id": "064454d0",
   "metadata": {},
   "source": [
    "**Suppose You are a data analyst at a financial consultancy. You’ve collected data from 50 clients, including their income, expenditure, and professional experience. You are tasked with analyzing this data to help create financial strategies based on career stage and income behavior.**"
   ]
  },
  {
   "cell_type": "markdown",
   "id": "7cca546d",
   "metadata": {},
   "source": [
    "1. Data Generation and Descriptive Statistics\n",
    "--> Generate 100 random data points for:\n",
    "   1. Serial number (1–50)\n",
    "   2. Income (25k–78k)\n",
    "   3. Expenditure (≤ income, in 25k–78k)\n",
    "   4. Experience (0 – 72 Months)\n",
    "\n",
    "•\tSummarize the data using descriptive statistics (mean, median, std, etc.)\n",
    "\n",
    "•\tInterpretation: What do the summary statistics suggest about the general financial profile?\n"
   ]
  },
  {
   "cell_type": "code",
   "execution_count": 1,
   "id": "b6b4961f",
   "metadata": {},
   "outputs": [],
   "source": [
    "import pandas as pd\n",
    "import numpy as np"
   ]
  },
  {
   "cell_type": "code",
   "execution_count": 2,
   "id": "27493a19",
   "metadata": {},
   "outputs": [],
   "source": [
    "# Set a seed for reproducibility\n",
    "np.random.seed(42)\n",
    "\n",
    "# Number of clients\n",
    "n_clients = 50\n",
    "\n",
    "# Generate data\n",
    "serial_number = np.arange(1, n_clients + 1)\n",
    "income = np.random.randint(25000, 78001, n_clients)\n",
    "expenditure = np.array([np.random.randint(25000, i + 1) for i in income])\n",
    "experience_months = np.random.randint(0, 73, n_clients)\n"
   ]
  },
  {
   "cell_type": "code",
   "execution_count": null,
   "id": "7eaedcd3",
   "metadata": {},
   "outputs": [],
   "source": [
    "# Create a Pandas DataFrame\n",
    "data = pd.DataFrame({\n",
    "    'Serial Number': serial_number,\n",
    "    'Income': income,\n",
    "    'Expenditure': expenditure,\n",
    "    'Experience (Months)': experience_months\n",
    "})\n"
   ]
  },
  {
   "cell_type": "code",
   "execution_count": 9,
   "id": "0ee7fb74",
   "metadata": {},
   "outputs": [
    {
     "data": {
      "text/plain": [
       "(50, 4)"
      ]
     },
     "execution_count": 9,
     "metadata": {},
     "output_type": "execute_result"
    }
   ],
   "source": [
    "data.shape"
   ]
  },
  {
   "cell_type": "code",
   "execution_count": 5,
   "id": "5aa3009b",
   "metadata": {},
   "outputs": [
    {
     "name": "stdout",
     "output_type": "stream",
     "text": [
      "Generated Data (First 5 rows):\n",
      "   Serial Number  Income  Expenditure  Experience (Months)\n",
      "0              1   40795        32513                   40\n",
      "1              2   25860        25564                   27\n",
      "2              3   63158        48483                    6\n",
      "3              4   69732        42159                   72\n",
      "4              5   36284        33226                   71\n"
     ]
    }
   ],
   "source": [
    "# Summarize the data using descriptive statistics\n",
    "descriptive_stats = data.describe()\n",
    "\n",
    "print(\"Generated Data (First 5 rows):\")\n",
    "print(data.head())"
   ]
  },
  {
   "cell_type": "code",
   "execution_count": 6,
   "id": "13d92f05",
   "metadata": {},
   "outputs": [
    {
     "name": "stdout",
     "output_type": "stream",
     "text": [
      "\n",
      "Descriptive Statistics:\n",
      "       Serial Number        Income   Expenditure  Experience (Months)\n",
      "count       50.00000     50.000000     50.000000            50.000000\n",
      "mean        25.50000  46440.260000  35846.560000            35.560000\n",
      "std         14.57738  15814.193523  11724.007238            20.775928\n",
      "min          1.00000  25189.000000  25023.000000             0.000000\n",
      "25%         13.25000  31905.250000  26580.500000            22.000000\n",
      "50%         25.50000  43686.500000  30677.500000            34.500000\n",
      "75%         37.75000  62662.750000  42236.250000            50.750000\n",
      "max         50.00000  75680.000000  65774.000000            72.000000\n"
     ]
    }
   ],
   "source": [
    "print(\"\\nDescriptive Statistics:\")\n",
    "print(descriptive_stats)"
   ]
  },
  {
   "cell_type": "markdown",
   "id": "6f042f09",
   "metadata": {},
   "source": [
    "**Summary of Descriptive Statistics:**"
   ]
  },
  {
   "cell_type": "markdown",
   "id": "904bddbd",
   "metadata": {},
   "source": [
    "- Income: Average $46.4k, but varies significantly ($15.8k std). Some high earners pull the average up (median $43.7k).\n",
    "- Expenditure: Average $35.8k, also varies ($11.7k std), with a stronger skew towards lower spending for most (median $30.7k). Clients generally spend less than they earn.\n",
    "- Experience: Averages around 3 years (35.6 months), with a moderate spread (20.8 months std), ranging from newcomers to 6-year professionals."
   ]
  },
  {
   "cell_type": "markdown",
   "id": "003f5c63",
   "metadata": {},
   "source": [
    "**General Financial Profile (Short Interpretation):**"
   ]
  },
  {
   "cell_type": "markdown",
   "id": "212458ea",
   "metadata": {},
   "source": [
    "The consultancy's clients show a moderate average income with substantial individual differences. They generally spend less than they earn, but spending habits also vary, with some higher spenders. The clients represent a range of career stages, suggesting diverse financial needs and opportunities for tailored strategies based on income behavior and experience."
   ]
  }
 ],
 "metadata": {
  "kernelspec": {
   "display_name": "Python 3",
   "language": "python",
   "name": "python3"
  },
  "language_info": {
   "codemirror_mode": {
    "name": "ipython",
    "version": 3
   },
   "file_extension": ".py",
   "mimetype": "text/x-python",
   "name": "python",
   "nbconvert_exporter": "python",
   "pygments_lexer": "ipython3",
   "version": "3.12.5"
  }
 },
 "nbformat": 4,
 "nbformat_minor": 5
}
